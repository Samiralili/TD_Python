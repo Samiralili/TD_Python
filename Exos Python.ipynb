{
 "cells": [
  {
   "cell_type": "markdown",
   "metadata": {},
   "source": [
    "# Exos Python"
   ]
  },
  {
   "cell_type": "markdown",
   "metadata": {},
   "source": [
    "# Exo 1:Palindrome\n",
    "### Solution 1"
   ]
  },
  {
   "cell_type": "code",
   "execution_count": 30,
   "metadata": {},
   "outputs": [
    {
     "name": "stdout",
     "output_type": "stream",
     "text": [
      "non palindrome\n"
     ]
    }
   ],
   "source": [
    "ch = \"bonjour\"\n",
    "if ch == ch[::-1]:\n",
    "    print(\"palindrome\")\n",
    "else:\n",
    "    print(\"non palindrome\")"
   ]
  },
  {
   "cell_type": "markdown",
   "metadata": {},
   "source": [
    "### Solution 2\n"
   ]
  },
  {
   "cell_type": "code",
   "execution_count": 44,
   "metadata": {},
   "outputs": [
    {
     "name": "stdout",
     "output_type": "stream",
     "text": [
      "Ce n'est pas un palindrome\n"
     ]
    }
   ],
   "source": [
    "mot = 'samir'\n",
    "mot = mot.casefold()\n",
    "rev_mot = reversed(mot)\n",
    "if list(mot) == list(rev_mot):\n",
    "    print(\"C'est un palindrome\")\n",
    "else:\n",
    "    print(\"Ce n'est pas un palindrome\")"
   ]
  },
  {
   "cell_type": "markdown",
   "metadata": {},
   "source": [
    "# Exo 2:Lancer de Dés"
   ]
  },
  {
   "cell_type": "code",
   "execution_count": 93,
   "metadata": {},
   "outputs": [
    {
     "name": "stdout",
     "output_type": "stream",
     "text": [
      "5\n",
      "4\n",
      "2\n",
      "6\n",
      "6\n",
      "Le total est égal à 23\n"
     ]
    }
   ],
   "source": [
    "from random import *\n",
    "\n",
    "\n",
    "total = 0\n",
    "\n",
    "for i in range(1,6):\n",
    "    tmp = randint (1,6)\n",
    "    print(tmp)\n",
    "    total = total + tmp # total += tmp\n",
    "    \n",
    "    \n",
    "    \n",
    "print(\"Le total est égal à\", total)"
   ]
  },
  {
   "cell_type": "markdown",
   "metadata": {},
   "source": [
    "# Exo 3:Calcul de moyennes"
   ]
  },
  {
   "cell_type": "code",
   "execution_count": 1,
   "metadata": {},
   "outputs": [
    {
     "name": "stdout",
     "output_type": "stream",
     "text": [
      "Veuillez entrer les notes de l'étudiant 1\n",
      "Veuillez entrer la note numéro 1\n",
      "15\n",
      "Veuillez entrer la note numéro 2\n",
      "14\n",
      "Veuillez entrer la note numéro 3\n",
      "17\n",
      "Veuillez entrer la note numéro 4\n",
      "12\n",
      "Veuillez entrer la note numéro 5\n",
      "13\n",
      "La moyenne est de 14.2\n",
      "Avez-vous fini de rentrer tous les étudiants ? \n",
      "oui\n"
     ]
    }
   ],
   "source": [
    "i=0 \n",
    "nbre_notes=5 \n",
    "table_notes=[] \n",
    "etudiant=True\n",
    "j=0 \n",
    "while(etudiant): \n",
    "    j = j + 1 \n",
    "    print(\"Veuillez entrer les notes de l'étudiant \" + str(j)) \n",
    "    while(i < nbre_notes): \n",
    "        i = i + 1 \n",
    "        table_notes.append(float(input(\"Veuillez entrer la note numéro \" + str(i) + \"\\n\")))\n",
    "    i=0 \n",
    "    moyenne=sum(table_notes)/nbre_notes \n",
    "    print(\"La moyenne est de \" + str(moyenne)) \n",
    "    table_notes=[] \n",
    "    if (input(\"Avez-vous fini de rentrer tous les étudiants ? \\n\")==\"oui\"): \n",
    "        etudiant = False"
   ]
  },
  {
   "cell_type": "markdown",
   "metadata": {},
   "source": [
    "# Exo 4:Traitement de données connues dans une matrice"
   ]
  },
  {
   "cell_type": "markdown",
   "metadata": {},
   "source": [
    "## Exo 4.1:"
   ]
  },
  {
   "cell_type": "code",
   "execution_count": 2,
   "metadata": {},
   "outputs": [
    {
     "name": "stdout",
     "output_type": "stream",
     "text": [
      "25\n"
     ]
    }
   ],
   "source": [
    "matrix = [[1, 2, 3], [4, 5, 6], [7, 8, 9]] \n",
    "def sommeImpairs(tab2d): \n",
    "    somme=0 \n",
    "    for ligne in (tab2d): \n",
    "        for valeur in ligne: \n",
    "            if valeur % 2 == 1: \n",
    "                somme+=valeur \n",
    "    return somme \n",
    "print(sommeImpairs(matrix))"
   ]
  },
  {
   "cell_type": "markdown",
   "metadata": {},
   "source": [
    "# Exo 6:Année Bissextile"
   ]
  },
  {
   "cell_type": "code",
   "execution_count": 6,
   "metadata": {},
   "outputs": [
    {
     "name": "stdout",
     "output_type": "stream",
     "text": [
      "Entrer une année : 2008\n",
      "annee bissextile\n"
     ]
    }
   ],
   "source": [
    "annee = int(input(\"Entrer une année : \"))\n",
    "if annee % 4 == 0 and (annee % 100 != 0 or annee % 400 == 0):\n",
    "   print(\"annee bissextile\")\n",
    "else:\n",
    "   print(\"annee non bissextile\")"
   ]
  },
  {
   "cell_type": "markdown",
   "metadata": {},
   "source": [
    "# Exo 8: Fibonacci"
   ]
  },
  {
   "cell_type": "code",
   "execution_count": 90,
   "metadata": {},
   "outputs": [
    {
     "name": "stdout",
     "output_type": "stream",
     "text": [
      "Suite de Fibonacci jusqu'à 5 :\n",
      "1\t1\t2\t3\t5\t8\t"
     ]
    }
   ],
   "source": [
    "n = 5\n",
    "f0 = 1\n",
    "f1 = 1\n",
    "count = 0\n",
    "if n < 2:\n",
    "   print(\"Entrez un entier >=2\")\n",
    "else:\n",
    "   print(\"Suite de Fibonacci jusqu'à\",n,\":\")\n",
    "while count <= n:\n",
    "    print(f0,end='\\t')\n",
    "    nth = f0 + f1\n",
    "    f0 = f1\n",
    "    f1 = nth\n",
    "    count +=1"
   ]
  }
 ],
 "metadata": {
  "kernelspec": {
   "display_name": "Python 3",
   "language": "python",
   "name": "python3"
  },
  "language_info": {
   "codemirror_mode": {
    "name": "ipython",
    "version": 3
   },
   "file_extension": ".py",
   "mimetype": "text/x-python",
   "name": "python",
   "nbconvert_exporter": "python",
   "pygments_lexer": "ipython3",
   "version": "3.7.0"
  }
 },
 "nbformat": 4,
 "nbformat_minor": 2
}
